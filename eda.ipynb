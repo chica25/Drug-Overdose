{
 "cells": [
  {
   "cell_type": "code",
   "execution_count": 8,
   "metadata": {},
   "outputs": [],
   "source": [
    "import pandas as pd\n",
    "import numpy as np\n",
    "import matplotlib.pyplot as plt\n",
    "import seaborn as sns"
   ]
  },
  {
   "cell_type": "code",
   "execution_count": 9,
   "metadata": {},
   "outputs": [],
   "source": [
    "df = pd.read_csv(\"./data/drug-overdose.csv\")"
   ]
  },
  {
   "cell_type": "code",
   "execution_count": 13,
   "metadata": {},
   "outputs": [
    {
     "name": "stdout",
     "output_type": "stream",
     "text": [
      "<class 'pandas.core.frame.DataFrame'>\n",
      "RangeIndex: 6228 entries, 0 to 6227\n",
      "Data columns (total 15 columns):\n",
      " #   Column          Non-Null Count  Dtype  \n",
      "---  ------          --------------  -----  \n",
      " 0   INDICATOR       6228 non-null   object \n",
      " 1   PANEL           6228 non-null   object \n",
      " 2   PANEL_NUM       6228 non-null   int64  \n",
      " 3   UNIT            6228 non-null   object \n",
      " 4   UNIT_NUM        6228 non-null   int64  \n",
      " 5   STUB_NAME       6228 non-null   object \n",
      " 6   STUB_NAME_NUM   6228 non-null   int64  \n",
      " 7   STUB_LABEL      6228 non-null   object \n",
      " 8   STUB_LABEL_NUM  6228 non-null   float64\n",
      " 9   YEAR            6228 non-null   int64  \n",
      " 10  YEAR_NUM        6228 non-null   int64  \n",
      " 11  AGE             6228 non-null   object \n",
      " 12  AGE_NUM         6228 non-null   float64\n",
      " 13  ESTIMATE        5117 non-null   float64\n",
      " 14  FLAG            1111 non-null   object \n",
      "dtypes: float64(3), int64(5), object(7)\n",
      "memory usage: 3.6 MB\n"
     ]
    }
   ],
   "source": [
    "df.info(memory_usage='deep')"
   ]
  },
  {
   "cell_type": "code",
   "execution_count": 10,
   "metadata": {},
   "outputs": [
    {
     "data": {
      "text/html": [
       "<div>\n",
       "<style scoped>\n",
       "    .dataframe tbody tr th:only-of-type {\n",
       "        vertical-align: middle;\n",
       "    }\n",
       "\n",
       "    .dataframe tbody tr th {\n",
       "        vertical-align: top;\n",
       "    }\n",
       "\n",
       "    .dataframe thead th {\n",
       "        text-align: right;\n",
       "    }\n",
       "</style>\n",
       "<table border=\"1\" class=\"dataframe\">\n",
       "  <thead>\n",
       "    <tr style=\"text-align: right;\">\n",
       "      <th></th>\n",
       "      <th>INDICATOR</th>\n",
       "      <th>PANEL</th>\n",
       "      <th>PANEL_NUM</th>\n",
       "      <th>UNIT</th>\n",
       "      <th>UNIT_NUM</th>\n",
       "      <th>STUB_NAME</th>\n",
       "      <th>STUB_NAME_NUM</th>\n",
       "      <th>STUB_LABEL</th>\n",
       "      <th>STUB_LABEL_NUM</th>\n",
       "      <th>YEAR</th>\n",
       "      <th>YEAR_NUM</th>\n",
       "      <th>AGE</th>\n",
       "      <th>AGE_NUM</th>\n",
       "      <th>ESTIMATE</th>\n",
       "      <th>FLAG</th>\n",
       "    </tr>\n",
       "  </thead>\n",
       "  <tbody>\n",
       "    <tr>\n",
       "      <th>0</th>\n",
       "      <td>Drug overdose death rates</td>\n",
       "      <td>All drug overdose deaths</td>\n",
       "      <td>0</td>\n",
       "      <td>Deaths per 100,000 resident population, age-ad...</td>\n",
       "      <td>1</td>\n",
       "      <td>Total</td>\n",
       "      <td>0</td>\n",
       "      <td>All persons</td>\n",
       "      <td>0.1</td>\n",
       "      <td>1999</td>\n",
       "      <td>1</td>\n",
       "      <td>All ages</td>\n",
       "      <td>1.1</td>\n",
       "      <td>6.1</td>\n",
       "      <td>NaN</td>\n",
       "    </tr>\n",
       "    <tr>\n",
       "      <th>1</th>\n",
       "      <td>Drug overdose death rates</td>\n",
       "      <td>All drug overdose deaths</td>\n",
       "      <td>0</td>\n",
       "      <td>Deaths per 100,000 resident population, age-ad...</td>\n",
       "      <td>1</td>\n",
       "      <td>Total</td>\n",
       "      <td>0</td>\n",
       "      <td>All persons</td>\n",
       "      <td>0.1</td>\n",
       "      <td>2000</td>\n",
       "      <td>2</td>\n",
       "      <td>All ages</td>\n",
       "      <td>1.1</td>\n",
       "      <td>6.2</td>\n",
       "      <td>NaN</td>\n",
       "    </tr>\n",
       "    <tr>\n",
       "      <th>2</th>\n",
       "      <td>Drug overdose death rates</td>\n",
       "      <td>All drug overdose deaths</td>\n",
       "      <td>0</td>\n",
       "      <td>Deaths per 100,000 resident population, age-ad...</td>\n",
       "      <td>1</td>\n",
       "      <td>Total</td>\n",
       "      <td>0</td>\n",
       "      <td>All persons</td>\n",
       "      <td>0.1</td>\n",
       "      <td>2001</td>\n",
       "      <td>3</td>\n",
       "      <td>All ages</td>\n",
       "      <td>1.1</td>\n",
       "      <td>6.8</td>\n",
       "      <td>NaN</td>\n",
       "    </tr>\n",
       "    <tr>\n",
       "      <th>3</th>\n",
       "      <td>Drug overdose death rates</td>\n",
       "      <td>All drug overdose deaths</td>\n",
       "      <td>0</td>\n",
       "      <td>Deaths per 100,000 resident population, age-ad...</td>\n",
       "      <td>1</td>\n",
       "      <td>Total</td>\n",
       "      <td>0</td>\n",
       "      <td>All persons</td>\n",
       "      <td>0.1</td>\n",
       "      <td>2002</td>\n",
       "      <td>4</td>\n",
       "      <td>All ages</td>\n",
       "      <td>1.1</td>\n",
       "      <td>8.2</td>\n",
       "      <td>NaN</td>\n",
       "    </tr>\n",
       "    <tr>\n",
       "      <th>4</th>\n",
       "      <td>Drug overdose death rates</td>\n",
       "      <td>All drug overdose deaths</td>\n",
       "      <td>0</td>\n",
       "      <td>Deaths per 100,000 resident population, age-ad...</td>\n",
       "      <td>1</td>\n",
       "      <td>Total</td>\n",
       "      <td>0</td>\n",
       "      <td>All persons</td>\n",
       "      <td>0.1</td>\n",
       "      <td>2003</td>\n",
       "      <td>5</td>\n",
       "      <td>All ages</td>\n",
       "      <td>1.1</td>\n",
       "      <td>8.9</td>\n",
       "      <td>NaN</td>\n",
       "    </tr>\n",
       "  </tbody>\n",
       "</table>\n",
       "</div>"
      ],
      "text/plain": [
       "                   INDICATOR                     PANEL  PANEL_NUM  \\\n",
       "0  Drug overdose death rates  All drug overdose deaths          0   \n",
       "1  Drug overdose death rates  All drug overdose deaths          0   \n",
       "2  Drug overdose death rates  All drug overdose deaths          0   \n",
       "3  Drug overdose death rates  All drug overdose deaths          0   \n",
       "4  Drug overdose death rates  All drug overdose deaths          0   \n",
       "\n",
       "                                                UNIT  UNIT_NUM STUB_NAME  \\\n",
       "0  Deaths per 100,000 resident population, age-ad...         1     Total   \n",
       "1  Deaths per 100,000 resident population, age-ad...         1     Total   \n",
       "2  Deaths per 100,000 resident population, age-ad...         1     Total   \n",
       "3  Deaths per 100,000 resident population, age-ad...         1     Total   \n",
       "4  Deaths per 100,000 resident population, age-ad...         1     Total   \n",
       "\n",
       "   STUB_NAME_NUM   STUB_LABEL  STUB_LABEL_NUM  YEAR  YEAR_NUM       AGE  \\\n",
       "0              0  All persons             0.1  1999         1  All ages   \n",
       "1              0  All persons             0.1  2000         2  All ages   \n",
       "2              0  All persons             0.1  2001         3  All ages   \n",
       "3              0  All persons             0.1  2002         4  All ages   \n",
       "4              0  All persons             0.1  2003         5  All ages   \n",
       "\n",
       "   AGE_NUM  ESTIMATE FLAG  \n",
       "0      1.1       6.1  NaN  \n",
       "1      1.1       6.2  NaN  \n",
       "2      1.1       6.8  NaN  \n",
       "3      1.1       8.2  NaN  \n",
       "4      1.1       8.9  NaN  "
      ]
     },
     "execution_count": 10,
     "metadata": {},
     "output_type": "execute_result"
    }
   ],
   "source": [
    "df.head()"
   ]
  },
  {
   "cell_type": "code",
   "execution_count": 11,
   "metadata": {},
   "outputs": [
    {
     "data": {
      "text/plain": [
       "Index(['INDICATOR', 'PANEL', 'PANEL_NUM', 'UNIT', 'UNIT_NUM', 'STUB_NAME',\n",
       "       'STUB_NAME_NUM', 'STUB_LABEL', 'STUB_LABEL_NUM', 'YEAR', 'YEAR_NUM',\n",
       "       'AGE', 'AGE_NUM', 'ESTIMATE', 'FLAG'],\n",
       "      dtype='object')"
      ]
     },
     "execution_count": 11,
     "metadata": {},
     "output_type": "execute_result"
    }
   ],
   "source": [
    "df.columns"
   ]
  },
  {
   "cell_type": "code",
   "execution_count": 28,
   "metadata": {},
   "outputs": [
    {
     "data": {
      "text/plain": [
       "STUB_LABEL\n",
       "All persons                                                                  0.038536\n",
       "Female                                                                       0.038536\n",
       "Male                                                                         0.038536\n",
       "Male: Hispanic or Latino: All races                                          0.020231\n",
       "Female: Not Hispanic or Latino: American Indian or Alaska Native             0.020231\n",
       "Female: Not Hispanic or Latino: Black                                        0.020231\n",
       "Female: Not Hispanic or Latino: White                                        0.020231\n",
       "Male: Not Hispanic or Latino: American Indian or Alaska Native               0.020231\n",
       "Male: Not Hispanic or Latino: Black                                          0.020231\n",
       "Male: Not Hispanic or Latino: White                                          0.020231\n",
       "Female: Hispanic or Latino: All races                                        0.020231\n",
       "Female: Black or African American                                            0.020231\n",
       "Female: White                                                                0.020231\n",
       "Male: American Indian or Alaska Native                                       0.020231\n",
       "Male: Black or African American                                              0.020231\n",
       "Female: American Indian or Alaska Native                                     0.020231\n",
       "Male: White                                                                  0.020231\n",
       "Female: 75-84 years                                                          0.019268\n",
       "Female: 15-24 years                                                          0.019268\n",
       "Male: 55-64 years                                                            0.019268\n",
       "Male: 65-74 years                                                            0.019268\n",
       "Male: 75-84 years                                                            0.019268\n",
       "Male: 85 years and over                                                      0.019268\n",
       "Female: Under 15 years                                                       0.019268\n",
       "Female: 45-54 years                                                          0.019268\n",
       "Female: 25-34 years                                                          0.019268\n",
       "Female: 35-44 years                                                          0.019268\n",
       "Female: 55-64 years                                                          0.019268\n",
       "Female: 85 years and over                                                    0.019268\n",
       "Male: 35-44 years                                                            0.019268\n",
       "Female: 65-74 years                                                          0.019268\n",
       "Male: 45-54 years                                                            0.019268\n",
       "55-64 years                                                                  0.019268\n",
       "Male: 25-34 years                                                            0.019268\n",
       "25-34 years                                                                  0.019268\n",
       "Male: Asian or Pacific Islander                                              0.019268\n",
       "Female: Asian or Pacific Islander                                            0.019268\n",
       "Male: Not Hispanic or Latino: Asian or Pacific Islander                      0.019268\n",
       "Female: Not Hispanic or Latino: Asian or Pacific Islander                    0.019268\n",
       "Under 15 years                                                               0.019268\n",
       "Male: 15-24 years                                                            0.019268\n",
       "15-24 years                                                                  0.019268\n",
       "35-44 years                                                                  0.019268\n",
       "45-54 years                                                                  0.019268\n",
       "65-74 years                                                                  0.019268\n",
       "75-84 years                                                                  0.019268\n",
       "85 years and over                                                            0.019268\n",
       "Male: Under 15 years                                                         0.019268\n",
       "Male: Not Hispanic or Latino: Asian                                          0.000963\n",
       "Male: Not Hispanic or Latino: Native Hawaiian or Other Pacific Islander      0.000963\n",
       "Female: Not Hispanic or Latino: Asian                                        0.000963\n",
       "Female: Not Hispanic or Latino: Native Hawaiian or Other Pacific Islander    0.000963\n",
       "Name: proportion, dtype: float64"
      ]
     },
     "execution_count": 29,
     "metadata": {},
     "output_type": "execute_result"
    }
   ],
   "source": [
    "df.STUB_LABEL.value_counts()"
   ]
  },
  {
   "cell_type": "code",
   "execution_count": 14,
   "metadata": {},
   "outputs": [
    {
     "data": {
      "text/plain": [
       "(6228, 15)"
      ]
     },
     "execution_count": 14,
     "metadata": {},
     "output_type": "execute_result"
    }
   ],
   "source": [
    "df.shape"
   ]
  },
  {
   "cell_type": "code",
   "execution_count": 15,
   "metadata": {},
   "outputs": [
    {
     "data": {
      "text/plain": [
       "INDICATOR          object\n",
       "PANEL              object\n",
       "PANEL_NUM           int64\n",
       "UNIT               object\n",
       "UNIT_NUM            int64\n",
       "STUB_NAME          object\n",
       "STUB_NAME_NUM       int64\n",
       "STUB_LABEL         object\n",
       "STUB_LABEL_NUM    float64\n",
       "YEAR                int64\n",
       "YEAR_NUM            int64\n",
       "AGE                object\n",
       "AGE_NUM           float64\n",
       "ESTIMATE          float64\n",
       "FLAG               object\n",
       "dtype: object"
      ]
     },
     "execution_count": 15,
     "metadata": {},
     "output_type": "execute_result"
    }
   ],
   "source": [
    "df.dtypes"
   ]
  },
  {
   "cell_type": "code",
   "execution_count": 18,
   "metadata": {},
   "outputs": [
    {
     "data": {
      "text/plain": [
       "STUB_NAME\n",
       "Sex and age                                       2160\n",
       "Sex and race and Hispanic origin                  1200\n",
       "Age                                               1080\n",
       "Sex and race                                       960\n",
       "Sex                                                480\n",
       "Total                                              240\n",
       "Sex and race and Hispanic origin (single race)      72\n",
       "Sex and race (single race)                          36\n",
       "Name: count, dtype: int64"
      ]
     },
     "execution_count": 18,
     "metadata": {},
     "output_type": "execute_result"
    }
   ],
   "source": [
    "df.STUB_NAME.value_counts()"
   ]
  },
  {
   "cell_type": "code",
   "execution_count": 19,
   "metadata": {},
   "outputs": [
    {
     "data": {
      "text/plain": [
       "PANEL\n",
       "All drug overdose deaths                                                         1038\n",
       "Drug overdose deaths involving any opioid                                        1038\n",
       "Drug overdose deaths involving natural and semisynthetic opioids                 1038\n",
       "Drug overdose deaths involving methadone                                         1038\n",
       "Drug overdose deaths involving other synthetic opioids (other than methadone)    1038\n",
       "Drug overdose deaths involving heroin                                            1038\n",
       "Name: count, dtype: int64"
      ]
     },
     "execution_count": 19,
     "metadata": {},
     "output_type": "execute_result"
    }
   ],
   "source": [
    "df.PANEL.value_counts()"
   ]
  },
  {
   "cell_type": "code",
   "execution_count": 20,
   "metadata": {},
   "outputs": [
    {
     "data": {
      "text/plain": [
       "AGE\n",
       "All ages             2988\n",
       "Under 15 years        360\n",
       "15-24 years           360\n",
       "25-34 years           360\n",
       "35-44 years           360\n",
       "45-54 years           360\n",
       "55-64 years           360\n",
       "65-74 years           360\n",
       "75-84 years           360\n",
       "85 years and over     360\n",
       "Name: count, dtype: int64"
      ]
     },
     "execution_count": 20,
     "metadata": {},
     "output_type": "execute_result"
    }
   ],
   "source": [
    "df.AGE.value_counts()"
   ]
  },
  {
   "cell_type": "code",
   "execution_count": 22,
   "metadata": {},
   "outputs": [
    {
     "data": {
      "text/plain": [
       "YEAR\n",
       "2018    414\n",
       "2000    306\n",
       "2017    306\n",
       "2016    306\n",
       "2015    306\n",
       "2014    306\n",
       "2013    306\n",
       "2012    306\n",
       "2011    306\n",
       "2010    306\n",
       "1999    306\n",
       "2008    306\n",
       "2007    306\n",
       "2006    306\n",
       "2005    306\n",
       "2004    306\n",
       "2003    306\n",
       "2002    306\n",
       "2001    306\n",
       "2009    306\n",
       "Name: count, dtype: int64"
      ]
     },
     "execution_count": 22,
     "metadata": {},
     "output_type": "execute_result"
    }
   ],
   "source": [
    "df.YEAR.value_counts()"
   ]
  },
  {
   "cell_type": "code",
   "execution_count": 26,
   "metadata": {},
   "outputs": [
    {
     "data": {
      "text/plain": [
       "INDICATOR\n",
       "Drug overdose death rates    6228\n",
       "Name: count, dtype: int64"
      ]
     },
     "execution_count": 26,
     "metadata": {},
     "output_type": "execute_result"
    }
   ],
   "source": [
    "df.INDICATOR.value_counts()"
   ]
  },
  {
   "cell_type": "code",
   "execution_count": 52,
   "metadata": {},
   "outputs": [
    {
     "ename": "TypeError",
     "evalue": "value_counts() got an unexpected keyword argument 'x'",
     "output_type": "error",
     "traceback": [
      "\u001b[0;31m---------------------------------------------------------------------------\u001b[0m",
      "\u001b[0;31mTypeError\u001b[0m                                 Traceback (most recent call last)",
      "Cell \u001b[0;32mIn[52], line 1\u001b[0m\n\u001b[0;32m----> 1\u001b[0m year \u001b[38;5;241m=\u001b[39m \u001b[43mdf\u001b[49m\u001b[38;5;241;43m.\u001b[39;49m\u001b[43mvalue_counts\u001b[49m\u001b[43m(\u001b[49m\u001b[43mx\u001b[49m\u001b[38;5;241;43m=\u001b[39;49m\u001b[38;5;124;43m\"\u001b[39;49m\u001b[38;5;124;43mYEAR\u001b[39;49m\u001b[38;5;124;43m\"\u001b[39;49m\u001b[43m,\u001b[49m\u001b[43m \u001b[49m\u001b[43msort\u001b[49m\u001b[38;5;241;43m=\u001b[39;49m\u001b[38;5;28;43;01mFalse\u001b[39;49;00m\u001b[43m,\u001b[49m\u001b[43m \u001b[49m\u001b[43my\u001b[49m\u001b[38;5;241;43m=\u001b[39;49m\u001b[38;5;124;43m\"\u001b[39;49m\u001b[38;5;124;43mSTUB_NAME\u001b[39;49m\u001b[38;5;124;43m\"\u001b[39;49m\u001b[43m)\u001b[49m\n",
      "\u001b[0;31mTypeError\u001b[0m: value_counts() got an unexpected keyword argument 'x'"
     ]
    }
   ],
   "source": [
    "year = df.value_counts(x=\"YEAR\", sort=False, y=\"STUB_NAME\")\n",
    "# plt.show()"
   ]
  },
  {
   "cell_type": "code",
   "execution_count": 53,
   "metadata": {},
   "outputs": [
    {
     "data": {
      "text/plain": [
       "<Axes: xlabel='YEAR'>"
      ]
     },
     "execution_count": 53,
     "metadata": {},
     "output_type": "execute_result"
    },
    {
     "data": {
      "image/png": "[encoded data removed]",
      "text/plain": [
       "<Figure size 640x480 with 1 Axes>"
      ]
     },
     "metadata": {},
     "output_type": "display_data"
    }
   ],
   "source": [
    "\n",
    "year.plot.bar(rot=40)"
   ]
  }
 ],
 "metadata": {
  "kernelspec": {
   "display_name": "phase1",
   "language": "python",
   "name": "python3"
  },
  "language_info": {
   "codemirror_mode": {
    "name": "ipython",
    "version": 3
   },
   "file_extension": ".py",
   "mimetype": "text/x-python",
   "name": "python",
   "nbconvert_exporter": "python",
   "pygments_lexer": "ipython3",
   "version": "3.9.18"
  }
 },
 "nbformat": 4,
 "nbformat_minor": 2
}
